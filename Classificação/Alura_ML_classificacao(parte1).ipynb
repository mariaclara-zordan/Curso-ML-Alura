{
  "nbformat": 4,
  "nbformat_minor": 0,
  "metadata": {
    "colab": {
      "name": "Alura-ML_classificacao(parte1).ipynb",
      "provenance": [],
      "authorship_tag": "ABX9TyPuCHFpeLMTGnpoVe7MUPwm"
    },
    "kernelspec": {
      "name": "python3",
      "display_name": "Python 3"
    },
    "language_info": {
      "name": "python"
    }
  },
  "cells": [
    {
      "cell_type": "markdown",
      "metadata": {
        "id": "OgYiFg9IsnP_"
      },
      "source": [
        "Parte 01: Introdução à classificação"
      ]
    },
    {
      "cell_type": "code",
      "metadata": {
        "id": "AnRA6MwifdmB"
      },
      "source": [
        "# features (características)\n",
        "# 1 sim 0 não\n",
        "#        pêlo longo?\n",
        "#        perna curta?\n",
        "#        faz auau?\n",
        "porco1 = [0,1,0]\n",
        "porco2 = [0,1,1]\n",
        "porco3 = [1,1,0]\n",
        "\n",
        "cachorro1 = [0,1,1]\n",
        "cachorro2 = [1,0,1]\n",
        "cachorro3 = [1,1,1]\n",
        "\n",
        "# 1 - porco e 0 -  cachorro\n",
        "train_x = [porco1, porco2, porco3, cachorro1, cachorro2, cachorro3]\n",
        "train_y = [1,1,1,0,0,0]\n",
        "# são o x e o y para treinar o modelo. A função é f(x)=y"
      ],
      "execution_count": null,
      "outputs": []
    },
    {
      "cell_type": "code",
      "metadata": {
        "colab": {
          "base_uri": "https://localhost:8080/"
        },
        "id": "4a2QRCjrgGK6",
        "outputId": "d090326c-e661-4e6d-a5f1-bf7ded656f99"
      },
      "source": [
        "#importar estimador\n",
        "from sklearn.svm import LinearSVC\n",
        "\n",
        "model = LinearSVC()\n",
        "#adaptar o modelo às informações\n",
        "model.fit(train_x, train_y)"
      ],
      "execution_count": null,
      "outputs": [
        {
          "output_type": "execute_result",
          "data": {
            "text/plain": [
              "LinearSVC(C=1.0, class_weight=None, dual=True, fit_intercept=True,\n",
              "          intercept_scaling=1, loss='squared_hinge', max_iter=1000,\n",
              "          multi_class='ovr', penalty='l2', random_state=None, tol=0.0001,\n",
              "          verbose=0)"
            ]
          },
          "metadata": {
            "tags": []
          },
          "execution_count": 3
        }
      ]
    },
    {
      "cell_type": "code",
      "metadata": {
        "colab": {
          "base_uri": "https://localhost:8080/"
        },
        "id": "gAiLsa4GhTXP",
        "outputId": "e4217eaa-8955-45af-b132-bae9c47ed4de"
      },
      "source": [
        "# trago uma informação nova, um animal desconhecido para o modelo\n",
        "animal_misterioso = [1,1,1]\n",
        "#peço ao modelo para (pre)dizer que animal é esse (dentro da classificação que ele conhece)\n",
        "model.predict([animal_misterioso])\n",
        "#precisa passar entre [], pq ele espera 2D então a gente passa um array com 3 features\n",
        "# se []: é esperado um array de duas dimensões, enquanto tivemos apenas uma"
      ],
      "execution_count": null,
      "outputs": [
        {
          "output_type": "execute_result",
          "data": {
            "text/plain": [
              "array([0])"
            ]
          },
          "metadata": {
            "tags": []
          },
          "execution_count": 4
        }
      ]
    },
    {
      "cell_type": "code",
      "metadata": {
        "id": "Okbx_2a7huZm"
      },
      "source": [
        "#mais teste\n",
        "misterio1 = [1,1,1]\n",
        "misterio2 = [1,1,0]\n",
        "misterio3 = [0,1,1]\n",
        "\n",
        "teste_x = [misterio1, misterio2, misterio3]\n",
        "# resposta certa era: [0,1,1]\n",
        "teste_y = [0,1,1]"
      ],
      "execution_count": null,
      "outputs": []
    },
    {
      "cell_type": "code",
      "metadata": {
        "id": "1Vrd6iCLiyWB"
      },
      "source": [
        "previsoes = model.predict(teste_x)"
      ],
      "execution_count": null,
      "outputs": []
    },
    {
      "cell_type": "code",
      "metadata": {
        "colab": {
          "base_uri": "https://localhost:8080/"
        },
        "id": "40PwvPq0joTs",
        "outputId": "17f5e6b6-5f53-433f-9f98-ef023bfcc657"
      },
      "source": [
        "previsoes\n",
        "#o formato é diferentes do testes_classes pq o sklearn usa o numpy"
      ],
      "execution_count": null,
      "outputs": [
        {
          "output_type": "execute_result",
          "data": {
            "text/plain": [
              "array([0, 1, 0])"
            ]
          },
          "metadata": {
            "tags": []
          },
          "execution_count": 7
        }
      ]
    },
    {
      "cell_type": "code",
      "metadata": {
        "colab": {
          "base_uri": "https://localhost:8080/"
        },
        "id": "6zaL8gWnjrrY",
        "outputId": "8330f688-3291-4dcd-9534-fb1489297a12"
      },
      "source": [
        "teste_y"
      ],
      "execution_count": null,
      "outputs": [
        {
          "output_type": "execute_result",
          "data": {
            "text/plain": [
              "[0, 1, 1]"
            ]
          },
          "metadata": {
            "tags": []
          },
          "execution_count": 10
        }
      ]
    },
    {
      "cell_type": "code",
      "metadata": {
        "colab": {
          "base_uri": "https://localhost:8080/"
        },
        "id": "jzXiZZ7BjSgV",
        "outputId": "6cf7f975-2c3e-4bb7-87ec-4d433e6ddc33"
      },
      "source": [
        "previsoes == teste_y\n",
        "#retorna um array do numpy por causa de previsoes"
      ],
      "execution_count": null,
      "outputs": [
        {
          "output_type": "execute_result",
          "data": {
            "text/plain": [
              "array([ True,  True, False])"
            ]
          },
          "metadata": {
            "tags": []
          },
          "execution_count": 11
        }
      ]
    },
    {
      "cell_type": "code",
      "metadata": {
        "colab": {
          "base_uri": "https://localhost:8080/"
        },
        "id": "8TwRLz6ajVnU",
        "outputId": "f18cc1fc-6a1c-4121-8532-5e92a91e0de1"
      },
      "source": [
        "#O número de corretos:\n",
        "corretos = (previsoes == teste_y).sum()\n",
        "\n",
        "total=len(teste_x)\n",
        "\n",
        "taxa_de_acerto1 = corretos/total\n",
        "print(\"Taxa de acerto %.2f \" % (taxa_de_acerto1*100))"
      ],
      "execution_count": null,
      "outputs": [
        {
          "output_type": "stream",
          "text": [
            "Taxa de acerto 66.67 \n"
          ],
          "name": "stdout"
        }
      ]
    },
    {
      "cell_type": "code",
      "metadata": {
        "colab": {
          "base_uri": "https://localhost:8080/"
        },
        "id": "-hc1M_MvkJDX",
        "outputId": "93e7e649-ecd0-4d23-d390-b8c1103e7ab0"
      },
      "source": [
        "#Funções prontas para trazer a acurácia (taxa de acerto)\n",
        "from sklearn.metrics import accuracy_score\n",
        "\n",
        "taxa_de_acerto = accuracy_score(teste_y, previsoes)\n",
        "#utilizando o placeholder\n",
        "print(\"Taxa de acerto: {}%\".format(round(taxa_de_acerto*100,2)))"
      ],
      "execution_count": null,
      "outputs": [
        {
          "output_type": "stream",
          "text": [
            "Taxa de acerto: 66.67%\n"
          ],
          "name": "stdout"
        }
      ]
    }
  ]
}
