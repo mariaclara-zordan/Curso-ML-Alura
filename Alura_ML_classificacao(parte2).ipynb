{
  "nbformat": 4,
  "nbformat_minor": 0,
  "metadata": {
    "colab": {
      "name": "Cópia de Alura-ML_classificacao(parte2).ipynb",
      "provenance": [],
      "authorship_tag": "ABX9TyNsDuGwy0ej7cpEyQ/06J8J"
    },
    "kernelspec": {
      "name": "python3",
      "display_name": "Python 3"
    },
    "language_info": {
      "name": "python"
    }
  },
  "cells": [
    {
      "cell_type": "markdown",
      "metadata": {
        "id": "EwQaoltatpEy"
      },
      "source": [
        ""
      ]
    },
    {
      "cell_type": "code",
      "metadata": {
        "colab": {
          "base_uri": "https://localhost:8080/",
          "height": 206
        },
        "id": "I-8LbnaYtiVs",
        "outputId": "5df48769-c7aa-4c16-a4ef-186b6be1b49b"
      },
      "source": [
        "import pandas as pd\n",
        "\n",
        "#para ler um csv\n",
        "uri = \"https://gist.githubusercontent.com/guilhermesilveira/2d2efa37d66b6c84a722ea627a897ced/raw/10968b997d885cbded1c92938c7a9912ba41c615/tracking.csv\"\n",
        "dados = pd.read_csv(uri)\n",
        "dados.head()"
      ],
      "execution_count": null,
      "outputs": [
        {
          "output_type": "execute_result",
          "data": {
            "text/html": [
              "<div>\n",
              "<style scoped>\n",
              "    .dataframe tbody tr th:only-of-type {\n",
              "        vertical-align: middle;\n",
              "    }\n",
              "\n",
              "    .dataframe tbody tr th {\n",
              "        vertical-align: top;\n",
              "    }\n",
              "\n",
              "    .dataframe thead th {\n",
              "        text-align: right;\n",
              "    }\n",
              "</style>\n",
              "<table border=\"1\" class=\"dataframe\">\n",
              "  <thead>\n",
              "    <tr style=\"text-align: right;\">\n",
              "      <th></th>\n",
              "      <th>home</th>\n",
              "      <th>how_it_works</th>\n",
              "      <th>contact</th>\n",
              "      <th>bought</th>\n",
              "    </tr>\n",
              "  </thead>\n",
              "  <tbody>\n",
              "    <tr>\n",
              "      <th>0</th>\n",
              "      <td>1</td>\n",
              "      <td>1</td>\n",
              "      <td>0</td>\n",
              "      <td>0</td>\n",
              "    </tr>\n",
              "    <tr>\n",
              "      <th>1</th>\n",
              "      <td>1</td>\n",
              "      <td>1</td>\n",
              "      <td>0</td>\n",
              "      <td>0</td>\n",
              "    </tr>\n",
              "    <tr>\n",
              "      <th>2</th>\n",
              "      <td>1</td>\n",
              "      <td>1</td>\n",
              "      <td>0</td>\n",
              "      <td>0</td>\n",
              "    </tr>\n",
              "    <tr>\n",
              "      <th>3</th>\n",
              "      <td>1</td>\n",
              "      <td>1</td>\n",
              "      <td>0</td>\n",
              "      <td>0</td>\n",
              "    </tr>\n",
              "    <tr>\n",
              "      <th>4</th>\n",
              "      <td>1</td>\n",
              "      <td>1</td>\n",
              "      <td>0</td>\n",
              "      <td>0</td>\n",
              "    </tr>\n",
              "  </tbody>\n",
              "</table>\n",
              "</div>"
            ],
            "text/plain": [
              "   home  how_it_works  contact  bought\n",
              "0     1             1        0       0\n",
              "1     1             1        0       0\n",
              "2     1             1        0       0\n",
              "3     1             1        0       0\n",
              "4     1             1        0       0"
            ]
          },
          "metadata": {
            "tags": []
          },
          "execution_count": 7
        }
      ]
    },
    {
      "cell_type": "code",
      "metadata": {
        "id": "BsZUb-h1ui8o"
      },
      "source": [
        "#Renomear colunas\n",
        "mapa = {\n",
        "    \"home\" : \"principal\",\n",
        "    \"how_it_works\" : \"como_funciona\",\n",
        "    \"contact\" : \"contato\",\n",
        "    \"bought\" : \"comprou\"\n",
        "}\n",
        "dados = dados.rename(columns = mapa)"
      ],
      "execution_count": null,
      "outputs": []
    },
    {
      "cell_type": "code",
      "metadata": {
        "colab": {
          "base_uri": "https://localhost:8080/"
        },
        "id": "s_Z1c5Vltz5q",
        "outputId": "ecc4f4c7-972f-4ce7-e430-4cc9f89624d5"
      },
      "source": [
        "# para selecionar apenas as 3 primieras colunas\n",
        "# tem que passar dentro de um array, já que +1 coluna, por isso [[]]\n",
        "x= dados [[\"principal\", \"como_funciona\",\"contato\"]]\n",
        "y = dados [\"comprou\"]\n",
        "y.head()"
      ],
      "execution_count": null,
      "outputs": [
        {
          "output_type": "execute_result",
          "data": {
            "text/plain": [
              "0    0\n",
              "1    0\n",
              "2    0\n",
              "3    0\n",
              "4    0\n",
              "Name: comprou, dtype: int64"
            ]
          },
          "metadata": {
            "tags": []
          },
          "execution_count": 16
        }
      ]
    },
    {
      "cell_type": "code",
      "metadata": {
        "colab": {
          "base_uri": "https://localhost:8080/"
        },
        "id": "ZRZ1jRkivqqq",
        "outputId": "1e42d202-f236-4901-c5b4-3c153a584467"
      },
      "source": [
        "dados.shape\n",
        "\n",
        "#entender o tamanho da amostra para separar TREINO e TESTE"
      ],
      "execution_count": null,
      "outputs": [
        {
          "output_type": "execute_result",
          "data": {
            "text/plain": [
              "(99, 4)"
            ]
          },
          "metadata": {
            "tags": []
          },
          "execution_count": 17
        }
      ]
    },
    {
      "cell_type": "code",
      "metadata": {
        "colab": {
          "base_uri": "https://localhost:8080/"
        },
        "id": "Rb8N2L9Sxf7x",
        "outputId": "b8603cb4-078a-4573-b7fe-0365c035beec"
      },
      "source": [
        "treino_x = x[:75] #75 primeiros, exclusive\n",
        "treino_y = y[:75]\n",
        "teste_x = x[75:]\n",
        "teste_y = y[75:]\n",
        "\n",
        "print(\"Treinaremos com %d elementos e testaremos com %d elementos\" % (len(treino_x), len(teste_x)))"
      ],
      "execution_count": null,
      "outputs": [
        {
          "output_type": "stream",
          "text": [
            "Treinaremos com 75 elementos e testaremos com 24 elementos\n"
          ],
          "name": "stdout"
        }
      ]
    },
    {
      "cell_type": "code",
      "metadata": {
        "id": "U4-4AwJryEG4"
      },
      "source": [
        "from sklearn.svm import LinearSVC\n",
        "\n",
        "modelo = LinearSVC()\n",
        "modelo.fit(treino_x,treino_y)\n",
        "\n",
        "previsoes = modelo.predict(teste_x)"
      ],
      "execution_count": null,
      "outputs": []
    },
    {
      "cell_type": "code",
      "metadata": {
        "colab": {
          "base_uri": "https://localhost:8080/"
        },
        "id": "nZKBt-78yWih",
        "outputId": "dd4db9b2-8309-429c-c7a5-f5ee11e512f2"
      },
      "source": [
        "from sklearn.metrics import accuracy_score\n",
        "acuracia = accuracy_score(teste_y,previsoes)*100\n",
        "\n",
        "#Uma forma de fazer:\n",
        "#print(\"Taxa de acerto: {}%\".format(round(taxa_de_acerto*100,2)))\n",
        "#forma melhorada:\n",
        "print (\"A acurácia foi %.2f%%\" % acuracia)"
      ],
      "execution_count": null,
      "outputs": [
        {
          "output_type": "stream",
          "text": [
            "A acurácia foi 95.83%\n"
          ],
          "name": "stdout"
        }
      ]
    },
    {
      "cell_type": "markdown",
      "metadata": {
        "id": "u6smK3xi0wpt"
      },
      "source": [
        "> Para entender mais sobre dicionário e tuplas:\n",
        "\n",
        "\n",
        "[Trabalhando com dicionário](https://www.alura.com.br/artigos/trabalhando-com-o-dicionario-no-python)\n",
        "\n",
        "[Conhecendo as tuplas no Python](https://www.alura.com.br/artigos/conhecendo-as-tuplas-no-python)"
      ]
    },
    {
      "cell_type": "markdown",
      "metadata": {
        "id": "U-w6q2w01PGU"
      },
      "source": [
        "Estratiticando splits:"
      ]
    },
    {
      "cell_type": "code",
      "metadata": {
        "id": "gfi2cJzE3DqW"
      },
      "source": [
        "# A partir daqui usamos uma biblioteca para separa "
      ],
      "execution_count": null,
      "outputs": []
    },
    {
      "cell_type": "code",
      "metadata": {
        "colab": {
          "base_uri": "https://localhost:8080/"
        },
        "id": "c3IoZPUBywRQ",
        "outputId": "8129d99c-a67f-4d64-d9ed-53310acc7e41"
      },
      "source": [
        "# from sklearn.model_selection import train_test_split\n",
        "# from sklearn.svm import LinearSVC\n",
        "# from sklearn.metrics import accuracy_score\n",
        "\n",
        "# #test_size define qual a porcentagem dos dados vai ser usado para teste, nesse caso 25% deles\n",
        "# treino_x, teste_x, treino_y, teste_y = train_test_split(x,y,test_size = 0.25)\n",
        "\n",
        "# # (?) a escolha da função é aleatória ou por ordem nos dados: SIM, É ALEATÓRIO\n",
        "\n",
        "# #treino_x.shape\n",
        "# #teste_x.shape\n",
        "\n",
        "# print(\"Treinaremos com %d elementos e testaremos com %d elementos\" % (len(treino_x), len(teste_x)))\n",
        "\n",
        "# modelo = LinearSVC()\n",
        "# modelo.fit(treino_x,treino_y)\n",
        "# previsoes = modelo.predict(teste_x)\n",
        "\n",
        "# acuracia = accuracy_score(teste_y,previsoes)*100\n",
        "# print (\"A acurácia foi %.2f%%\" % acuracia)"
      ],
      "execution_count": null,
      "outputs": [
        {
          "output_type": "stream",
          "text": [
            "Treinaremos com 74 elementos e testaremos com 25 elementos\n",
            "A acurácia foi 100.00%\n"
          ],
          "name": "stdout"
        }
      ]
    },
    {
      "cell_type": "code",
      "metadata": {
        "id": "jb69O5LL2jpr"
      },
      "source": [
        "# Como a separação é aleatória, cada vez que o comando é rodado ele dá um resultado diferente"
      ],
      "execution_count": null,
      "outputs": []
    },
    {
      "cell_type": "code",
      "metadata": {
        "colab": {
          "base_uri": "https://localhost:8080/"
        },
        "id": "ehEUP4uj3XsU",
        "outputId": "411f3124-77b0-4306-e17c-0c18c8788b9d"
      },
      "source": [
        "from sklearn.model_selection import train_test_split\n",
        "from sklearn.svm import LinearSVC\n",
        "from sklearn.metrics import accuracy_score\n",
        "\n",
        "#número incial, semente (p/ definir a ordem dos números aleatórios):\n",
        "SEED = 20\n",
        "\n",
        "#test_size define qual a porcentagem dos dados vai ser usado para teste, nesse caso 25% deles\n",
        "treino_x, teste_x, treino_y, teste_y = train_test_split(x,y, random_state = SEED, test_size = 0.25)\n",
        "\n",
        "# (?) a escolha da função é aleatória ou por ordem nos dados: SIM, É ALEATÓRIO\n",
        "\n",
        "#treino_x.shape\n",
        "#teste_x.shape\n",
        "\n",
        "print(\"Treinaremos com %d elementos e testaremos com %d elementos\" % (len(treino_x), len(teste_x)))\n",
        "\n",
        "modelo = LinearSVC()\n",
        "modelo.fit(treino_x,treino_y)\n",
        "previsoes = modelo.predict(teste_x)\n",
        "\n",
        "acuracia = accuracy_score(teste_y,previsoes)*100\n",
        "print (\"A acurácia foi %.2f%%\" % acuracia)"
      ],
      "execution_count": null,
      "outputs": [
        {
          "output_type": "stream",
          "text": [
            "Treinaremos com 74 elementos e testaremos com 25 elementos\n",
            "A acurácia foi 96.00%\n"
          ],
          "name": "stdout"
        }
      ]
    },
    {
      "cell_type": "code",
      "metadata": {
        "colab": {
          "base_uri": "https://localhost:8080/"
        },
        "id": "smbcP5A337cn",
        "outputId": "d6dc7034-b1a5-4b9d-b51a-9db76dffea22"
      },
      "source": [
        "treino_y.value_counts()"
      ],
      "execution_count": null,
      "outputs": [
        {
          "output_type": "execute_result",
          "data": {
            "text/plain": [
              "0    47\n",
              "1    27\n",
              "Name: comprou, dtype: int64"
            ]
          },
          "metadata": {
            "tags": []
          },
          "execution_count": 50
        }
      ]
    },
    {
      "cell_type": "code",
      "metadata": {
        "colab": {
          "base_uri": "https://localhost:8080/"
        },
        "id": "_UDt-Egt3_-O",
        "outputId": "bdf33274-cc8d-4565-be13-a5cdf7e9fbb3"
      },
      "source": [
        "teste_y.value_counts()"
      ],
      "execution_count": null,
      "outputs": [
        {
          "output_type": "execute_result",
          "data": {
            "text/plain": [
              "0    19\n",
              "1     6\n",
              "Name: comprou, dtype: int64"
            ]
          },
          "metadata": {
            "tags": []
          },
          "execution_count": 51
        }
      ]
    },
    {
      "cell_type": "markdown",
      "metadata": {
        "id": "aWfSoJwR4XQz"
      },
      "source": [
        "> As proporções no treino e no teste não estão de acordo.\n",
        "\n",
        "É arriscado, o algoritmo pode se tornar tendencioso\n",
        "47/27 = 1,74\n",
        "19/6 = 3,16\n"
      ]
    },
    {
      "cell_type": "code",
      "metadata": {
        "colab": {
          "base_uri": "https://localhost:8080/"
        },
        "id": "01is1uTa4Fhu",
        "outputId": "5023d4bd-55be-4636-b2d6-ec422bb7abbe"
      },
      "source": [
        "from sklearn.model_selection import train_test_split\n",
        "from sklearn.svm import LinearSVC\n",
        "from sklearn.metrics import accuracy_score\n",
        "\n",
        "#número incial, semente (p/ definir a ordem dos números aleatórios):\n",
        "SEED = 20\n",
        "\n",
        "#stratify : separa proporcinalmente de acordo com o argumento, nesse caso, y\n",
        "treino_x, teste_x, treino_y, teste_y = train_test_split(x,y, \n",
        "                                                        random_state = SEED, \n",
        "                                                        test_size = 0.25,\n",
        "                                                        stratify = y)\n",
        "\n",
        "print(\"Treinaremos com %d elementos e testaremos com %d elementos\" % (len(treino_x), len(teste_x)))\n",
        "\n",
        "modelo = LinearSVC()\n",
        "modelo.fit(treino_x,treino_y)\n",
        "previsoes = modelo.predict(teste_x)\n",
        "\n",
        "acuracia = accuracy_score(teste_y,previsoes)*100\n",
        "print (\"A acurácia foi %.2f%%\" % acuracia)"
      ],
      "execution_count": null,
      "outputs": [
        {
          "output_type": "stream",
          "text": [
            "Treinaremos com 74 elementos e testaremos com 25 elementos\n",
            "A acurácia foi 96.00%\n"
          ],
          "name": "stdout"
        }
      ]
    },
    {
      "cell_type": "code",
      "metadata": {
        "colab": {
          "base_uri": "https://localhost:8080/"
        },
        "id": "PIDe9x4S5FuD",
        "outputId": "b631eb0a-a02d-4136-da35-2d47db03f1c9"
      },
      "source": [
        "treino_y.value_counts()"
      ],
      "execution_count": null,
      "outputs": [
        {
          "output_type": "execute_result",
          "data": {
            "text/plain": [
              "0    49\n",
              "1    25\n",
              "Name: comprou, dtype: int64"
            ]
          },
          "metadata": {
            "tags": []
          },
          "execution_count": 55
        }
      ]
    },
    {
      "cell_type": "code",
      "metadata": {
        "colab": {
          "base_uri": "https://localhost:8080/"
        },
        "id": "w0WuLwf_5H-f",
        "outputId": "39d1b8c4-1289-448d-95ae-c558ba6ea7a1"
      },
      "source": [
        "teste_y.value_counts()"
      ],
      "execution_count": null,
      "outputs": [
        {
          "output_type": "execute_result",
          "data": {
            "text/plain": [
              "0    17\n",
              "1     8\n",
              "Name: comprou, dtype: int64"
            ]
          },
          "metadata": {
            "tags": []
          },
          "execution_count": 56
        }
      ]
    },
    {
      "cell_type": "code",
      "metadata": {
        "id": "vCCcaCs05KVn"
      },
      "source": [
        "# 49/25 = 1,96\n",
        "# 17/8 = 2,25"
      ],
      "execution_count": null,
      "outputs": []
    }
  ]
}